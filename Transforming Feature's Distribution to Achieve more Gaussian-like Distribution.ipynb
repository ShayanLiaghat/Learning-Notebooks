{
 "cells": [
  {
   "cell_type": "markdown",
   "metadata": {},
   "source": [
    "This notebook is based on 3 blog posts by **Jason Brownlee** on **Machine Learning Mastery** website  \n",
    "The links to the posts are:  \n",
    "1. https://machinelearningmastery.com/power-transforms-with-scikit-learn/  \n",
    "2. https://machinelearningmastery.com/quantile-transforms-for-machine-learning/\n",
    "3. https://machinelearningmastery.com/discretization-transforms-for-machine-learning/"
   ]
  },
  {
   "cell_type": "markdown",
   "metadata": {},
   "source": [
    "# THEORY"
   ]
  },
  {
   "cell_type": "markdown",
   "metadata": {},
   "source": [
    "# Power Transforms for Machine Learning  \n",
    "Machine learning algorithms like Linear Regression and Gaussian Naive Bayes assume the numerical variables have a Gaussian probability distribution.  \n",
    "you may be able to achieve better performance on a wide range of machine learning algorithms by transforming input and/or output variables to have a Gaussian or more-Gaussian distribution. **Many machine learning algorithms perform better when the distribution of variables is Gaussian**.  \n",
    "Another common reason for transformations is **to remove distributional skewness**. An un-skewed distribution is one that is roughly symmetric. This means that the probability of falling on either side of the distribution’s mean is roughly equal (Page 31, Applied Predictive Modeling, 2013).  \n",
    "**Power transforms** refer to a class of techniques that use a power function (like a logarithm or exponent) to make the probability distribution of a variable Gaussian or more-Gaussian like.  \n",
    "removing a skew in the distribution = stabilizing the variance of the distribution  \n",
    "There are two popular approaches for such automatic power transforms; they are: ***Box-Cox Transform*** & ***Yeo-Johnson Transform***  \n",
    "These power transforms are available in the scikit-learn Python machine learning library via the **PowerTransformer** class.  \n",
    "The class takes an argument named “**method**” that can be set to ‘yeo-johnson‘ or ‘box-cox‘ for the preferred method. It will also standardize the data automatically after the transform, meaning **each variable will have a zero mean and unit variance**. This can be turned off by setting the “standardize” argument to False.  \n",
    "  \n",
    "***Box-Cox Transform***  \n",
    "The Box-Cox transform is named for the two authors of the method.  \n",
    "It is a power transform that assumes the values of the input variable to which it is applied are **strictly positive**. That means **0 and negative values are not supported**.  \n",
    "To solve the 0 and negative value problem, we can use a **MixMaxScaler transform** first to scale the data to positive values, then apply the transform.  \n",
    "  \n",
    "***Yeo-Johnson Transform***  \n",
    "The Yeo-Johnson transform is also named for the authors.\n",
    "Unlike the Box-Cox transform, it **does not require** the values for each input variable to be strictly positive. **It supports zero values and negative values**.  \n",
    "Sometimes a lift in performance can be achieved by first standardizing the raw dataset prior to performing a Yeo-Johnson transform. We can explore this by adding a **StandardScaler** as a first step in the pipeline.  \n",
    "  \n",
    "    \n",
    "    "
   ]
  },
  {
   "cell_type": "markdown",
   "metadata": {},
   "source": [
    "# Quantile Transforms for Machine Learning  \n",
    "A quantile transform will map a variable’s probability distribution to another probability distribution.  \n",
    "Recall that a **quantile function**, also called a percent-point function (PPF), is the inverse of the cumulative probability distribution (CDF). A CDF is a function that returns the probability of a value at or below a given value. The PPF is the inverse of this function and returns the value at or below a given probability.  \n",
    "The quantile function ranks or **smooths out** the relationship between observations and can be mapped onto other distributions, such as the **uniform** or **normal** distribution.  \n",
    "This quantile transform is available in the scikit-learn Python machine learning library via the **QuantileTransformer** class.  \n",
    "The class has an “**output_distribution**” argument that can be set to “uniform” or “normal” and defaults to “uniform“.  \n",
    "It also provides a “**n_quantiles**” that determines the resolution of the mapping or ranking of the observations in the dataset. This must be set to a value less than the number of observations in the dataset and defaults to 1,000.  \n",
    "It centers the values on **the mean value of 0 and a standard deviation of 1.0**.  \n",
    "  \n",
    "**Normal Quantile Transform**  \n",
    "We can apply the Quantile transform using the QuantileTransformer class and set the “output_distribution” argument to “normal“. We must also set the “n_quantiles” argument to a value less than the number of observations in the training dataset.  \n",
    "  \n",
    "**Uniform Quantile Transform**  \n",
    "Sometimes it can be beneficial to transform a highly exponential or multi-modal distribution to have a uniform distribution.\n",
    "This is especially useful for data with a large and sparse range of values, e.g. **outliers that are common rather than rare**.\n",
    "We can apply the transform by defining a QuantileTransformer class and setting the “output_distribution” argument to “uniform” (the default).  "
   ]
  },
  {
   "cell_type": "markdown",
   "metadata": {},
   "source": [
    "# Discretization Transforms for Machine Learning  \n",
    "it is often desirable to transform each input variable to have a standard probability distribution.  \n",
    "One approach is to use transform of the numerical variable to have a discrete probability distribution where each numerical value is assigned a label and the labels have an ordered (ordinal) relationship.  \n",
    "This is called a **binning** or a **discretization** transform and can improve the performance of some machine learning models for datasets by making the probability distribution of numerical input variables discrete.  \n",
    "A **discretization transform** will map numerical variables onto discrete values. Values for the variable are grouped together into discrete bins and each bin is assigned a unique integer such that the ordinal relationship between the bins is preserved. The use of bins is often referred to as **binning or k-bins**, where k refers to the number of groups to which a numeric variable is mapped.  \n",
    "Different methods for grouping the values into k discrete bins can be used; common techniques include:  \n",
    "**Uniform**: Each bin has the same width in the span of possible values for the variable.  \n",
    "**Quantile**: Each bin has the same number of values, split based on percentiles.  \n",
    "**Clustered**: Clusters are identified and examples are assigned to each group.  \n",
    "The discretization transform is available in the scikit-learn Python machine learning library via the **KBinsDiscretizer** class.  \n",
    "The “**strategy**” argument controls the manner in which the input variable is divided, as either “uniform,” “quantile,” or “kmeans.”  \n",
    "The “**n_bins**” argument controls the number of bins that will be created and must be set based on the choice of strategy, e.g. **“uniform” is flexible**, “quantile” must have a “n_bins” less than the number of observations or sensible percentiles, and “kmeans” must use a value for the number of clusters that can be reasonably found.  \n",
    "The “**encode**” argument controls whether the transform will map each value to an integer value by setting “**ordinal**” or a one-hot encoding “**onehot**”. An ordinal encoding is almost always preferred, although a one-hot encoding may allow a model to learn non-ordinal relationships between the groups, such as in the case of k-means clustering strategy.  \n",
    "  \n",
    "**Uniform Discretization Transform**  \n",
    "A uniform discretization transform will preserve the probability distribution of each input variable but will make it discrete with the specified number of ordinal groups or labels.  \n",
    "  \n",
    "**K-means Discretization Transform**  \n",
    "A K-means discretization transform will attempt to fit k clusters for each input variable and then assign each observation to a cluster. Unless the empirical distribution of the variable is complex, the number of clusters is likely to be small, such as 3-to-5.  \n",
    "  \n",
    "**Quantile Discretization Transform**  \n",
    "A quantile discretization transform will attempt to split the observations for each input variable into k groups, where the number of observations assigned to each group is approximately equal. Unless there are a large number of observations or a complex empirical distribution, the number of bins must be kept small, such as 5-10."
   ]
  },
  {
   "cell_type": "markdown",
   "metadata": {},
   "source": [
    "# CODE"
   ]
  },
  {
   "cell_type": "code",
   "execution_count": 1,
   "metadata": {},
   "outputs": [
    {
     "name": "stderr",
     "output_type": "stream",
     "text": [
      "C:\\Users\\shaya\\Anaconda3\\lib\\importlib\\_bootstrap.py:219: RuntimeWarning: numpy.ufunc size changed, may indicate binary incompatibility. Expected 192 from C header, got 216 from PyObject\n",
      "  return f(*args, **kwds)\n",
      "C:\\Users\\shaya\\Anaconda3\\lib\\importlib\\_bootstrap.py:219: RuntimeWarning: numpy.ufunc size changed, may indicate binary incompatibility. Expected 192 from C header, got 216 from PyObject\n",
      "  return f(*args, **kwds)\n",
      "C:\\Users\\shaya\\Anaconda3\\lib\\importlib\\_bootstrap.py:219: RuntimeWarning: numpy.ufunc size changed, may indicate binary incompatibility. Expected 192 from C header, got 216 from PyObject\n",
      "  return f(*args, **kwds)\n"
     ]
    }
   ],
   "source": [
    "# Importing the required libraries\n",
    "\n",
    "import numpy as np\n",
    "import pandas as pd\n",
    "import matplotlib.pyplot as plt\n",
    "import seaborn as sns\n",
    "from sklearn.model_selection import cross_val_score, RepeatedStratifiedKFold\n",
    "from sklearn.neighbors import KNeighborsClassifier\n",
    "from sklearn.preprocessing import LabelEncoder"
   ]
  },
  {
   "cell_type": "code",
   "execution_count": 6,
   "metadata": {},
   "outputs": [
    {
     "name": "stdout",
     "output_type": "stream",
     "text": [
      "Accuracy Original: 0.8144\n",
      "Standard Deviation Original: 0.0725\n"
     ]
    }
   ],
   "source": [
    "# for practice, we will use the Sonar Dataset which is available on Jason's Github.\n",
    "# It involves 60 real-valued inputs and a 2-class target variable. \n",
    "# There are 208 examples in the dataset and the classes are reasonably balanced.\n",
    "# K-nearest neighbor is used as the base model to compare the transformations\n",
    "\n",
    "# load the dataset\n",
    "url = \"https://raw.githubusercontent.com/jbrownlee/Datasets/master/sonar.csv\"\n",
    "dataset = pd.read_csv(url, header=None)\n",
    "\n",
    "# pd.dataframe to np.array\n",
    "data = dataset.values\n",
    "\n",
    "# separating input and output\n",
    "X = data[:,:-1]\n",
    "y = data[:,-1]\n",
    "\n",
    "# ensuring the input is float and output is integer\n",
    "X = X.astype('float32')\n",
    "y = LabelEncoder().fit_transform(y.astype('str'))\n",
    "\n",
    "# defining the model\n",
    "model = KNeighborsClassifier()\n",
    "\n",
    "# model evaluation\n",
    "cv = RepeatedStratifiedKFold(n_splits=10,n_repeats=3,random_state=1)\n",
    "n_scores_original = cross_val_score(model,X,y,scoring='accuracy',cv=cv,n_jobs=-1, error_score='raise')\n",
    "print(f'Accuracy Original: {round(np.mean(n_scores_original),4)}\\nStandard Deviation Original: {round(np.std(n_scores_original),4)}')"
   ]
  },
  {
   "cell_type": "code",
   "execution_count": 8,
   "metadata": {},
   "outputs": [
    {
     "name": "stdout",
     "output_type": "stream",
     "text": [
      "Accuracy Box-Cox: 0.821\n",
      "Standard Deviation Box-Cox: 0.0644\n"
     ]
    }
   ],
   "source": [
    "# Box-Cox transformation\n",
    "from sklearn.preprocessing import PowerTransformer, MinMaxScaler\n",
    "from sklearn.pipeline import Pipeline\n",
    "\n",
    "# definign the pipeline\n",
    "scaler = MinMaxScaler(feature_range=(1,2))\n",
    "power = PowerTransformer(method='box-cox')\n",
    "model = KNeighborsClassifier()\n",
    "pipeline_box_cox = Pipeline(steps=[('s',scaler),('p',power),('m',model)])\n",
    "\n",
    "# model evaluation\n",
    "cv = RepeatedStratifiedKFold(n_splits=10,n_repeats=3,random_state=1)\n",
    "n_scores_box_cox = cross_val_score(pipeline_box_cox,X,y,scoring='accuracy',cv=cv,n_jobs=-1, error_score='raise')\n",
    "print(f'Accuracy Box-Cox: {round(np.mean(n_scores_box_cox),4)}\\nStandard Deviation Box-Cox: {round(np.std(n_scores_box_cox),4)}')"
   ]
  },
  {
   "cell_type": "code",
   "execution_count": 9,
   "metadata": {},
   "outputs": [
    {
     "name": "stdout",
     "output_type": "stream",
     "text": [
      "Accuracy Yeo-Johnson: 0.821\n",
      "Standard Deviation Yeo-Johnson: 0.0644\n"
     ]
    }
   ],
   "source": [
    "# Yeo-Johnson trasformation\n",
    "from sklearn.preprocessing import StandardScaler\n",
    "\n",
    "# definign the pipeline\n",
    "scaler = StandardScaler()\n",
    "power = PowerTransformer(method='yeo-johnson')\n",
    "model = KNeighborsClassifier()\n",
    "pipeline_yeo_johnson = Pipeline(steps=[('s',scaler),('p',power),('m',model)])\n",
    "\n",
    "# model evaluation\n",
    "cv = RepeatedStratifiedKFold(n_splits=10,n_repeats=3,random_state=1)\n",
    "n_scores_yeo_johnson = cross_val_score(pipeline_yeo_johnson,X,y,scoring='accuracy',cv=cv,n_jobs=-1, error_score='raise')\n",
    "print(f'Accuracy Yeo-Johnson: {round(np.mean(n_scores_box_cox),4)}\\nStandard Deviation Yeo-Johnson: {round(np.std(n_scores_box_cox),4)}')"
   ]
  },
  {
   "cell_type": "code",
   "execution_count": 10,
   "metadata": {},
   "outputs": [
    {
     "name": "stdout",
     "output_type": "stream",
     "text": [
      "Accuracy Normal Quntile Transformation: 0.817\n",
      "Standard Deviation Normal Quntile Transformation: 0.088\n"
     ]
    }
   ],
   "source": [
    "# Normal Quantile Transformation\n",
    "from sklearn.preprocessing import QuantileTransformer\n",
    "\n",
    "# definign the pipeline\n",
    "normal_quantile_transform = QuantileTransformer(n_quantiles=100,output_distribution='normal')\n",
    "model = KNeighborsClassifier()\n",
    "pipeline_normal_quantile = Pipeline(steps=[('t',normal_quantile_transform),('m',model)])\n",
    "\n",
    "# model evaluation\n",
    "cv = RepeatedStratifiedKFold(n_splits=10,n_repeats=3,random_state=1)\n",
    "n_scores_normal_quantile = cross_val_score(pipeline_normal_quantile,X,y,scoring='accuracy',cv=cv,n_jobs=-1, error_score='raise')\n",
    "print(f'Accuracy Normal Quntile Transformation: {round(np.mean(n_scores_normal_quantile),4)}\\nStandard Deviation Normal Quntile Transformation: {round(np.std(n_scores_normal_quantile),4)}')"
   ]
  },
  {
   "cell_type": "code",
   "execution_count": 11,
   "metadata": {},
   "outputs": [
    {
     "name": "stdout",
     "output_type": "stream",
     "text": [
      "Accuracy Uniform Quntile Transformation: 0.8452\n",
      "Standard Deviation Uniform Quntile Transformation: 0.0624\n"
     ]
    }
   ],
   "source": [
    "# Uniform Quantile Transformation\n",
    "\n",
    "# definign the pipeline\n",
    "uniform_quantile_transform = QuantileTransformer(n_quantiles=100,output_distribution='uniform')\n",
    "model = KNeighborsClassifier()\n",
    "pipeline_uniform_quantile = Pipeline(steps=[('t',uniform_quantile_transform),('m',model)])\n",
    "\n",
    "# model evaluation\n",
    "cv = RepeatedStratifiedKFold(n_splits=10,n_repeats=3,random_state=1)\n",
    "n_scores_uniform_quantile = cross_val_score(pipeline_uniform_quantile,X,y,scoring='accuracy',cv=cv,n_jobs=-1, error_score='raise')\n",
    "print(f'Accuracy Uniform Quntile Transformation: {round(np.mean(n_scores_uniform_quantile),4)}\\nStandard Deviation Uniform Quntile Transformation: {round(np.std(n_scores_uniform_quantile),4)}')"
   ]
  },
  {
   "cell_type": "markdown",
   "metadata": {},
   "source": [
    "We chose the number of quantiles as an arbitrary number, in this case, 100.  \n",
    "This hyperparameter can be tuned to explore the effect of the resolution of the transform on the resulting skill of the model.  \n",
    "The example below performs this experiment and plots the mean accuracy for different “n_quantiles” values from 1 to 99.  "
   ]
  },
  {
   "cell_type": "code",
   "execution_count": 14,
   "metadata": {},
   "outputs": [
    {
     "name": "stdout",
     "output_type": "stream",
     "text": [
      "1     accuracy:    0.46617, std: 0.01234\n",
      "2     accuracy:    0.83222, std: 0.07477\n",
      "3     accuracy:    0.84491, std: 0.06908\n",
      "4     accuracy:    0.85317, std: 0.06092\n",
      "5     accuracy:    0.85143, std: 0.06359\n",
      "6     accuracy:    0.84485, std: 0.05811\n",
      "7     accuracy:    0.83849, std: 0.06157\n",
      "8     accuracy:    0.84841, std: 0.0617\n",
      "9     accuracy:    0.84675, std: 0.06212\n",
      "10    accuracy:    0.84167, std: 0.06514\n",
      "11    accuracy:    0.84024, std: 0.06219\n",
      "12    accuracy:    0.84039, std: 0.06309\n",
      "13    accuracy:    0.84198, std: 0.06409\n",
      "14    accuracy:    0.84206, std: 0.06503\n",
      "15    accuracy:     0.8419, std: 0.06043\n",
      "16    accuracy:    0.84183, std: 0.0632\n",
      "17    accuracy:    0.84356, std: 0.06385\n",
      "18    accuracy:    0.84198, std: 0.06526\n",
      "19    accuracy:    0.84198, std: 0.06409\n",
      "20    accuracy:    0.84031, std: 0.06308\n",
      "21    accuracy:    0.84039, std: 0.06428\n",
      "22    accuracy:    0.84515, std: 0.06238\n",
      "23    accuracy:    0.84039, std: 0.06428\n",
      "24    accuracy:    0.84356, std: 0.06385\n",
      "25    accuracy:    0.84356, std: 0.06266\n",
      "26    accuracy:    0.84515, std: 0.06238\n",
      "27    accuracy:    0.84198, std: 0.06409\n",
      "28    accuracy:    0.84356, std: 0.06385\n",
      "29    accuracy:    0.84356, std: 0.06266\n",
      "30    accuracy:    0.84515, std: 0.06238\n",
      "31    accuracy:    0.84183, std: 0.0621\n",
      "32    accuracy:    0.84356, std: 0.06266\n",
      "33    accuracy:    0.84039, std: 0.06428\n",
      "34    accuracy:    0.84515, std: 0.06238\n",
      "35    accuracy:    0.84356, std: 0.06385\n",
      "36    accuracy:    0.84198, std: 0.06409\n",
      "37    accuracy:    0.84348, std: 0.06018\n",
      "38    accuracy:    0.84515, std: 0.06238\n",
      "39    accuracy:    0.84515, std: 0.06238\n",
      "40    accuracy:    0.84515, std: 0.06238\n",
      "41    accuracy:    0.84356, std: 0.06385\n",
      "42    accuracy:    0.84356, std: 0.06266\n",
      "43    accuracy:    0.84674, std: 0.06206\n",
      "44    accuracy:    0.84198, std: 0.06409\n",
      "45    accuracy:     0.8419, std: 0.06431\n",
      "46    accuracy:    0.84356, std: 0.06266\n",
      "47    accuracy:    0.84515, std: 0.06238\n",
      "48    accuracy:    0.84356, std: 0.06266\n",
      "49    accuracy:    0.84356, std: 0.06266\n",
      "50    accuracy:    0.84515, std: 0.06238\n",
      "51    accuracy:    0.84515, std: 0.06238\n",
      "52    accuracy:    0.84515, std: 0.06238\n",
      "53    accuracy:    0.84356, std: 0.06266\n",
      "54    accuracy:    0.84515, std: 0.06238\n",
      "55    accuracy:    0.84674, std: 0.06206\n",
      "56    accuracy:    0.84356, std: 0.06385\n",
      "57    accuracy:    0.84674, std: 0.06206\n",
      "58    accuracy:    0.84515, std: 0.06238\n",
      "59    accuracy:    0.84515, std: 0.06238\n",
      "60    accuracy:    0.84515, std: 0.06238\n",
      "61    accuracy:    0.84198, std: 0.06409\n",
      "62    accuracy:    0.84356, std: 0.06385\n",
      "63    accuracy:    0.84515, std: 0.06238\n",
      "64    accuracy:    0.84674, std: 0.06206\n",
      "65    accuracy:    0.84356, std: 0.06385\n",
      "66    accuracy:    0.84515, std: 0.06238\n",
      "67    accuracy:    0.84515, std: 0.06238\n",
      "68    accuracy:    0.84515, std: 0.06238\n",
      "69    accuracy:    0.84356, std: 0.06385\n",
      "70    accuracy:    0.84515, std: 0.06238\n",
      "71    accuracy:    0.84348, std: 0.06289\n",
      "72    accuracy:    0.84356, std: 0.06385\n",
      "73    accuracy:    0.84515, std: 0.06238\n",
      "74    accuracy:    0.84674, std: 0.06206\n",
      "75    accuracy:    0.84515, std: 0.06238\n",
      "76    accuracy:    0.84356, std: 0.06385\n",
      "77    accuracy:    0.84356, std: 0.06385\n",
      "78    accuracy:    0.84515, std: 0.06238\n",
      "79    accuracy:    0.84515, std: 0.06238\n",
      "80    accuracy:    0.84356, std: 0.06385\n",
      "81    accuracy:    0.84515, std: 0.06238\n",
      "82    accuracy:    0.84515, std: 0.06238\n",
      "83    accuracy:    0.84198, std: 0.06409\n",
      "84    accuracy:    0.84356, std: 0.06385\n",
      "85    accuracy:    0.84356, std: 0.06385\n",
      "86    accuracy:    0.84356, std: 0.06385\n",
      "87    accuracy:    0.84356, std: 0.06385\n",
      "88    accuracy:    0.84356, std: 0.06385\n",
      "89    accuracy:    0.84348, std: 0.06289\n",
      "90    accuracy:    0.84515, std: 0.06238\n",
      "91    accuracy:    0.84515, std: 0.06238\n",
      "92    accuracy:    0.84674, std: 0.06206\n",
      "93    accuracy:    0.84356, std: 0.06385\n",
      "94    accuracy:    0.84515, std: 0.06238\n",
      "95    accuracy:    0.84356, std: 0.06385\n",
      "96    accuracy:    0.84515, std: 0.06238\n",
      "97    accuracy:    0.84515, std: 0.06238\n",
      "98    accuracy:    0.84515, std: 0.06238\n",
      "99    accuracy:    0.84356, std: 0.06385\n"
     ]
    }
   ],
   "source": [
    "models = dict()\n",
    "for i in range(1,100):\n",
    "    trans = QuantileTransformer(n_quantiles=i, output_distribution='uniform')\n",
    "    model = KNeighborsClassifier()\n",
    "    models[str(i)] = Pipeline(steps=[('t', trans), ('m', model)])\n",
    "    \n",
    "# evaluate a give model using cross-validation\n",
    "def evaluate_model(model):\n",
    "    cv = RepeatedStratifiedKFold(n_splits=10, n_repeats=3, random_state=1)\n",
    "    scores = cross_val_score(model, X, y, scoring='accuracy', cv=cv, n_jobs=-1, error_score='raise')\n",
    "    return scores\n",
    "\n",
    "results = list()\n",
    "for name, model in models.items():\n",
    "    scores = evaluate_model(model)\n",
    "    results.append(np.mean(scores))\n",
    "    print(f'{name:{5}} accuracy: {round(np.mean(scores),5):{10}}, std: {round(np.std(scores),5)}')"
   ]
  },
  {
   "cell_type": "code",
   "execution_count": 18,
   "metadata": {},
   "outputs": [
    {
     "data": {
      "text/plain": [
       "[<matplotlib.lines.Line2D at 0x28a79311a88>]"
      ]
     },
     "execution_count": 18,
     "metadata": {},
     "output_type": "execute_result"
    },
    {
     "data": {
      "image/png": "[encoded data removed]",
      "text/plain": [
       "<Figure size 432x288 with 1 Axes>"
      ]
     },
     "metadata": {
      "needs_background": "light"
     },
     "output_type": "display_data"
    }
   ],
   "source": [
    "plt.plot(results)"
   ]
  },
  {
   "cell_type": "code",
   "execution_count": 20,
   "metadata": {},
   "outputs": [
    {
     "name": "stdout",
     "output_type": "stream",
     "text": [
      "Accuracy Uniform Discretization Transformation: 0.8451\n",
      "Standard Deviation Uniform Discretization Transformation: 0.0732\n"
     ]
    }
   ],
   "source": [
    "# Uniform Discretization Transformation\n",
    "\n",
    "from sklearn.preprocessing import KBinsDiscretizer\n",
    "\n",
    "# definign the pipeline\n",
    "uniform_discretizer = KBinsDiscretizer(n_bins=10,encode='ordinal',strategy='uniform')\n",
    "model = KNeighborsClassifier()\n",
    "pipeline_uniform_discretizer = Pipeline(steps=[('t',uniform_discretizer),('m',model)])\n",
    "\n",
    "# model evaluation\n",
    "cv = RepeatedStratifiedKFold(n_splits=10,n_repeats=3,random_state=1)\n",
    "n_scores_uniform_discretizer = cross_val_score(pipeline_uniform_discretizer,X,y,scoring='accuracy',cv=cv,n_jobs=-1, error_score='raise')\n",
    "print(f'Accuracy Uniform Discretization Transformation: {round(np.mean(n_scores_uniform_discretizer),4)}\\nStandard Deviation Uniform Discretization Transformation: {round(np.std(n_scores_uniform_discretizer),4)}')"
   ]
  },
  {
   "cell_type": "code",
   "execution_count": 21,
   "metadata": {},
   "outputs": [
    {
     "name": "stdout",
     "output_type": "stream",
     "text": [
      "Accuracy K-means Discretization Transformation: 0.8224\n",
      "Standard Deviation K-means Discretization Transformation: 0.0795\n"
     ]
    }
   ],
   "source": [
    "# K-means Discretization Transformation\n",
    "\n",
    "# definign the pipeline\n",
    "kmeans_discretizer = KBinsDiscretizer(n_bins=3,encode='ordinal',strategy='kmeans')\n",
    "model = KNeighborsClassifier()\n",
    "pipeline_kmeans_discretizer = Pipeline(steps=[('t',kmeans_discretizer),('m',model)])\n",
    "\n",
    "# model evaluation\n",
    "cv = RepeatedStratifiedKFold(n_splits=10,n_repeats=3,random_state=1)\n",
    "n_scores_kmeans_discretizer = cross_val_score(pipeline_kmeans_discretizer,X,y,scoring='accuracy',cv=cv,n_jobs=-1, error_score='raise')\n",
    "print(f'Accuracy K-means Discretization Transformation: {round(np.mean(n_scores_kmeans_discretizer),4)}\\nStandard Deviation K-means Discretization Transformation: {round(np.std(n_scores_kmeans_discretizer),4)}')"
   ]
  },
  {
   "cell_type": "code",
   "execution_count": 22,
   "metadata": {},
   "outputs": [
    {
     "name": "stdout",
     "output_type": "stream",
     "text": [
      "Accuracy Qantile Discretization Transformation: 0.8449\n",
      "Standard Deviation Qantile Discretization Transformation: 0.0678\n"
     ]
    }
   ],
   "source": [
    "# Quantile Discretization Transformation\n",
    "\n",
    "# definign the pipeline\n",
    "quantile_discretizer = KBinsDiscretizer(n_bins=10,encode='ordinal',strategy='quantile')\n",
    "model = KNeighborsClassifier()\n",
    "pipeline_quantile_discretizer = Pipeline(steps=[('t',quantile_discretizer),('m',model)])\n",
    "\n",
    "# model evaluation\n",
    "cv = RepeatedStratifiedKFold(n_splits=10,n_repeats=3,random_state=1)\n",
    "n_scores_quantile_discretizer = cross_val_score(pipeline_quantile_discretizer,X,y,scoring='accuracy',cv=cv,n_jobs=-1, error_score='raise')\n",
    "print(f'Accuracy Qantile Discretization Transformation: {round(np.mean(n_scores_quantile_discretizer),4)}\\nStandard Deviation Qantile Discretization Transformation: {round(np.std(n_scores_quantile_discretizer),4)}')"
   ]
  },
  {
   "cell_type": "markdown",
   "metadata": {},
   "source": [
    "We chose the number of bins as an arbitrary number; in this case, 10.  \n",
    "This hyperparameter can be tuned to explore the effect of the resolution of the transform on the resulting skill of the model."
   ]
  },
  {
   "cell_type": "code",
   "execution_count": 23,
   "metadata": {},
   "outputs": [
    {
     "name": "stdout",
     "output_type": "stream",
     "text": [
      "2     accuracy:    0.82547, std: 0.06784\n",
      "3     accuracy:    0.86407, std: 0.06537\n",
      "4     accuracy:    0.84841, std: 0.06928\n",
      "5     accuracy:    0.84644, std: 0.06797\n",
      "6     accuracy:       0.84, std: 0.04908\n",
      "7     accuracy:    0.85159, std: 0.06092\n",
      "8     accuracy:    0.84833, std: 0.06696\n",
      "9     accuracy:    0.84667, std: 0.05719\n",
      "10    accuracy:    0.84493, std: 0.06775\n"
     ]
    }
   ],
   "source": [
    "models = dict()\n",
    "for i in range(2,11):\n",
    "    trans = KBinsDiscretizer(n_bins=i, encode='ordinal', strategy='quantile')\n",
    "    model = KNeighborsClassifier()\n",
    "    models[str(i)] = Pipeline(steps=[('t', trans), ('m', model)])\n",
    "    \n",
    "def evaluate_model(model):\n",
    "    cv = RepeatedStratifiedKFold(n_splits=10, n_repeats=3, random_state=1)\n",
    "    scores = cross_val_score(model, X, y, scoring='accuracy', cv=cv, n_jobs=-1, error_score='raise')\n",
    "    return scores\n",
    "\n",
    "results, names = list(), list()\n",
    "for name, model in models.items():\n",
    "    scores = evaluate_model(model)\n",
    "    results.append(scores)\n",
    "    names.append(name)\n",
    "    print(f'{name:{5}} accuracy: {round(np.mean(scores),5):{10}}, std: {round(np.std(scores),5)}')"
   ]
  },
  {
   "cell_type": "code",
   "execution_count": 24,
   "metadata": {},
   "outputs": [
    {
     "data": {
      "text/plain": [
       "{'whiskers': [<matplotlib.lines.Line2D at 0x28a7acb9f48>,\n",
       "  <matplotlib.lines.Line2D at 0x28a7acc1f08>,\n",
       "  <matplotlib.lines.Line2D at 0x28a7ace2d88>,\n",
       "  <matplotlib.lines.Line2D at 0x28a7ace61c8>,\n",
       "  <matplotlib.lines.Line2D at 0x28a7ad10e88>,\n",
       "  <matplotlib.lines.Line2D at 0x28a7ad13d08>,\n",
       "  <matplotlib.lines.Line2D at 0x28a7ad38108>,\n",
       "  <matplotlib.lines.Line2D at 0x28a7ad30a48>,\n",
       "  <matplotlib.lines.Line2D at 0x28a7ad5fcc8>,\n",
       "  <matplotlib.lines.Line2D at 0x28a7ad10cc8>,\n",
       "  <matplotlib.lines.Line2D at 0x28a7ad7e9c8>,\n",
       "  <matplotlib.lines.Line2D at 0x28a7ad8c048>,\n",
       "  <matplotlib.lines.Line2D at 0x28a7b1602c8>,\n",
       "  <matplotlib.lines.Line2D at 0x28a7ac72d88>,\n",
       "  <matplotlib.lines.Line2D at 0x28a7aaf9308>,\n",
       "  <matplotlib.lines.Line2D at 0x28a7ab46348>,\n",
       "  <matplotlib.lines.Line2D at 0x28a7ac7a808>,\n",
       "  <matplotlib.lines.Line2D at 0x28a7aabe388>],\n",
       " 'caps': [<matplotlib.lines.Line2D at 0x28a7acc1108>,\n",
       "  <matplotlib.lines.Line2D at 0x28a7acc4808>,\n",
       "  <matplotlib.lines.Line2D at 0x28a7acea748>,\n",
       "  <matplotlib.lines.Line2D at 0x28a7acf3e88>,\n",
       "  <matplotlib.lines.Line2D at 0x28a7ad17d48>,\n",
       "  <matplotlib.lines.Line2D at 0x28a7ad1cfc8>,\n",
       "  <matplotlib.lines.Line2D at 0x28a7ad350c8>,\n",
       "  <matplotlib.lines.Line2D at 0x28a7ad3fe88>,\n",
       "  <matplotlib.lines.Line2D at 0x28a7ad63388>,\n",
       "  <matplotlib.lines.Line2D at 0x28a7ad17f88>,\n",
       "  <matplotlib.lines.Line2D at 0x28a7a7bae48>,\n",
       "  <matplotlib.lines.Line2D at 0x28a7ac89d88>,\n",
       "  <matplotlib.lines.Line2D at 0x28a7ac81a88>,\n",
       "  <matplotlib.lines.Line2D at 0x28a7ac81c48>,\n",
       "  <matplotlib.lines.Line2D at 0x28a7aad9888>,\n",
       "  <matplotlib.lines.Line2D at 0x28a7aad5b88>,\n",
       "  <matplotlib.lines.Line2D at 0x28a79fe3e08>,\n",
       "  <matplotlib.lines.Line2D at 0x28a7aab2b08>],\n",
       " 'boxes': [<matplotlib.lines.Line2D at 0x28a7acb6908>,\n",
       "  <matplotlib.lines.Line2D at 0x28a7acda048>,\n",
       "  <matplotlib.lines.Line2D at 0x28a7ad030c8>,\n",
       "  <matplotlib.lines.Line2D at 0x28a7ad30308>,\n",
       "  <matplotlib.lines.Line2D at 0x28a7ad57408>,\n",
       "  <matplotlib.lines.Line2D at 0x28a7ad74988>,\n",
       "  <matplotlib.lines.Line2D at 0x28a7ac9b948>,\n",
       "  <matplotlib.lines.Line2D at 0x28a7ab17788>,\n",
       "  <matplotlib.lines.Line2D at 0x28a7ac7a908>],\n",
       " 'medians': [<matplotlib.lines.Line2D at 0x28a7acccfc8>,\n",
       "  <matplotlib.lines.Line2D at 0x28a7acf3f88>,\n",
       "  <matplotlib.lines.Line2D at 0x28a7ad10848>,\n",
       "  <matplotlib.lines.Line2D at 0x28a7ad47fc8>,\n",
       "  <matplotlib.lines.Line2D at 0x28a7ad6a1c8>,\n",
       "  <matplotlib.lines.Line2D at 0x28a7ac8c9c8>,\n",
       "  <matplotlib.lines.Line2D at 0x28a7ac6e108>,\n",
       "  <matplotlib.lines.Line2D at 0x28a7aac6cc8>,\n",
       "  <matplotlib.lines.Line2D at 0x28a7a9b0388>],\n",
       " 'fliers': [<matplotlib.lines.Line2D at 0x28a7acdae88>,\n",
       "  <matplotlib.lines.Line2D at 0x28a7ad00e08>,\n",
       "  <matplotlib.lines.Line2D at 0x28a7ad1fa08>,\n",
       "  <matplotlib.lines.Line2D at 0x28a7ad4bb48>,\n",
       "  <matplotlib.lines.Line2D at 0x28a7ad70848>,\n",
       "  <matplotlib.lines.Line2D at 0x28a7ac90488>,\n",
       "  <matplotlib.lines.Line2D at 0x28a7aaf4308>,\n",
       "  <matplotlib.lines.Line2D at 0x28a7a9a9ec8>,\n",
       "  <matplotlib.lines.Line2D at 0x28a7a9efe08>],\n",
       " 'means': [<matplotlib.lines.Line2D at 0x28a7acd02c8>,\n",
       "  <matplotlib.lines.Line2D at 0x28a7acf8448>,\n",
       "  <matplotlib.lines.Line2D at 0x28a7ad24288>,\n",
       "  <matplotlib.lines.Line2D at 0x28a7ad47248>,\n",
       "  <matplotlib.lines.Line2D at 0x28a7ad74b88>,\n",
       "  <matplotlib.lines.Line2D at 0x28a7ad89dc8>,\n",
       "  <matplotlib.lines.Line2D at 0x28a7ab11dc8>,\n",
       "  <matplotlib.lines.Line2D at 0x28a7a03e048>,\n",
       "  <matplotlib.lines.Line2D at 0x28a7a99e1c8>]}"
      ]
     },
     "execution_count": 24,
     "metadata": {},
     "output_type": "execute_result"
    },
    {
     "data": {
      "image/png": "[encoded data removed]",
      "text/plain": [
       "<Figure size 432x288 with 1 Axes>"
      ]
     },
     "metadata": {
      "needs_background": "light"
     },
     "output_type": "display_data"
    }
   ],
   "source": [
    "plt.boxplot(results,labels=names,showmeans=True)"
   ]
  }
 ],
 "metadata": {
  "kernelspec": {
   "display_name": "Python 3",
   "language": "python",
   "name": "python3"
  },
  "language_info": {
   "codemirror_mode": {
    "name": "ipython",
    "version": 3
   },
   "file_extension": ".py",
   "mimetype": "text/x-python",
   "name": "python",
   "nbconvert_exporter": "python",
   "pygments_lexer": "ipython3",
   "version": "3.7.4"
  }
 },
 "nbformat": 4,
 "nbformat_minor": 2
}
